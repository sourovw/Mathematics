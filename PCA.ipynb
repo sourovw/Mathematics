{
  "nbformat": 4,
  "nbformat_minor": 0,
  "metadata": {
    "colab": {
      "name": "PCA.ipynb",
      "provenance": [],
      "collapsed_sections": [],
      "include_colab_link": true
    },
    "kernelspec": {
      "display_name": "Python 3",
      "name": "python3"
    },
    "language_info": {
      "name": "python"
    }
  },
  "cells": [
    {
      "cell_type": "markdown",
      "metadata": {
        "id": "view-in-github",
        "colab_type": "text"
      },
      "source": [
        "<a href=\"https://colab.research.google.com/github/sourovw/Mathematics/blob/main/PCA.ipynb\" target=\"_parent\"><img src=\"https://colab.research.google.com/assets/colab-badge.svg\" alt=\"Open In Colab\"/></a>"
      ]
    },
    {
      "cell_type": "code",
      "metadata": {
        "id": "UqJS_g-thXuG"
      },
      "source": [
        "from numpy import array\n",
        "from numpy import mean\n",
        "from numpy import cov\n",
        "from numpy.linalg import eig"
      ],
      "execution_count": 13,
      "outputs": []
    },
    {
      "cell_type": "code",
      "metadata": {
        "colab": {
          "base_uri": "https://localhost:8080/"
        },
        "id": "8nQf6JsriWfS",
        "outputId": "59d07018-0123-4bb8-c3a6-9761292b78f2"
      },
      "source": [
        "# dataset\n",
        "\n",
        "D = array([[1, 0], [8, 0], [1, 4]])\n",
        "print(D)"
      ],
      "execution_count": 14,
      "outputs": [
        {
          "output_type": "stream",
          "name": "stdout",
          "text": [
            "[[1 0]\n",
            " [8 0]\n",
            " [1 4]]\n"
          ]
        }
      ]
    },
    {
      "cell_type": "code",
      "metadata": {
        "id": "cUbH8g5hiw3G",
        "colab": {
          "base_uri": "https://localhost:8080/"
        },
        "outputId": "08cdf2d8-aac4-4340-93aa-81126174db9d"
      },
      "source": [
        "print(D.T)"
      ],
      "execution_count": 15,
      "outputs": [
        {
          "output_type": "stream",
          "name": "stdout",
          "text": [
            "[[1 8 1]\n",
            " [0 0 4]]\n"
          ]
        }
      ]
    },
    {
      "cell_type": "code",
      "metadata": {
        "colab": {
          "base_uri": "https://localhost:8080/"
        },
        "id": "PvBuzyG9jPg2",
        "outputId": "f3f3a6dd-1c4c-4337-de0b-13e89383bec4"
      },
      "source": [
        "# calculating mean\n",
        "\n",
        "M = mean(D.T, axis = 1)\n",
        "print(M)"
      ],
      "execution_count": 16,
      "outputs": [
        {
          "output_type": "stream",
          "name": "stdout",
          "text": [
            "[3.33333333 1.33333333]\n"
          ]
        }
      ]
    },
    {
      "cell_type": "code",
      "metadata": {
        "colab": {
          "base_uri": "https://localhost:8080/"
        },
        "id": "qV_sGByZj4oZ",
        "outputId": "95b86f9f-5c26-492c-8920-a90d5c3bf4a4"
      },
      "source": [
        "A = D - M\n",
        "print(A)"
      ],
      "execution_count": 17,
      "outputs": [
        {
          "output_type": "stream",
          "name": "stdout",
          "text": [
            "[[-2.33333333 -1.33333333]\n",
            " [ 4.66666667 -1.33333333]\n",
            " [-2.33333333  2.66666667]]\n"
          ]
        }
      ]
    },
    {
      "cell_type": "code",
      "metadata": {
        "colab": {
          "base_uri": "https://localhost:8080/"
        },
        "id": "5Sb4jrIgkH0F",
        "outputId": "5bb4e1fc-294f-4926-fe10-a0a9daf31bf6"
      },
      "source": [
        "# claculating covariance matrix\n",
        "\n",
        "C = cov(A.T)\n",
        "print(C)"
      ],
      "execution_count": 18,
      "outputs": [
        {
          "output_type": "stream",
          "name": "stdout",
          "text": [
            "[[16.33333333 -4.66666667]\n",
            " [-4.66666667  5.33333333]]\n"
          ]
        }
      ]
    },
    {
      "cell_type": "code",
      "metadata": {
        "id": "qO-ZdYPfkfjO"
      },
      "source": [
        "eig_values, eig_vectors = eig(C)"
      ],
      "execution_count": 19,
      "outputs": []
    },
    {
      "cell_type": "code",
      "metadata": {
        "colab": {
          "base_uri": "https://localhost:8080/"
        },
        "id": "_0ufI2Ahkvy4",
        "outputId": "de27f425-0dcc-43b9-9cb7-7fd54190fa16"
      },
      "source": [
        "# print eigen values\n",
        "\n",
        "print(eig_values)"
      ],
      "execution_count": 20,
      "outputs": [
        {
          "output_type": "stream",
          "name": "stdout",
          "text": [
            "[18.04636167  3.620305  ]\n"
          ]
        }
      ]
    },
    {
      "cell_type": "code",
      "metadata": {
        "colab": {
          "base_uri": "https://localhost:8080/"
        },
        "id": "1CXp0qXPlRcl",
        "outputId": "eab67b7d-4777-4d36-8929-004871ef2661"
      },
      "source": [
        "# print eigen vectors\n",
        "\n",
        "print(eig_vectors)"
      ],
      "execution_count": 21,
      "outputs": [
        {
          "output_type": "stream",
          "name": "stdout",
          "text": [
            "[[ 0.9387516   0.34459459]\n",
            " [-0.34459459  0.9387516 ]]\n"
          ]
        }
      ]
    },
    {
      "cell_type": "code",
      "metadata": {
        "id": "IJp3UbEZlolf"
      },
      "source": [
        "pca = eig_vectors.T.dot(A.T)"
      ],
      "execution_count": 22,
      "outputs": []
    },
    {
      "cell_type": "code",
      "metadata": {
        "colab": {
          "base_uri": "https://localhost:8080/"
        },
        "id": "lisUmb2WmILQ",
        "outputId": "c8efb784-5e8e-4241-9317-b97b9d342599"
      },
      "source": [
        "# print principle component\n",
        "\n",
        "print(pca)"
      ],
      "execution_count": 23,
      "outputs": [
        {
          "output_type": "stream",
          "name": "stdout",
          "text": [
            "[[-1.73096095  4.84030026 -3.10933931]\n",
            " [-2.05572285  0.35643929  1.69928356]]\n"
          ]
        }
      ]
    }
  ]
}